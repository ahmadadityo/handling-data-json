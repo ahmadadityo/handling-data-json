{
  "nbformat": 4,
  "nbformat_minor": 0,
  "metadata": {
    "colab": {
      "provenance": []
    },
    "kernelspec": {
      "name": "python3",
      "display_name": "Python 3"
    },
    "language_info": {
      "name": "python"
    }
  },
  "cells": [
    {
      "cell_type": "code",
      "execution_count": 18,
      "metadata": {
        "id": "iTvUHLJ-VU3l",
        "colab": {
          "base_uri": "https://localhost:8080/"
        },
        "outputId": "b5ab595d-a113-4fcf-b1f2-410ee4c377ee"
      },
      "outputs": [
        {
          "output_type": "stream",
          "name": "stdout",
          "text": [
            "Drive already mounted at /content/drive; to attempt to forcibly remount, call drive.mount(\"/content/drive\", force_remount=True).\n"
          ]
        }
      ],
      "source": [
        "# mound ke google drive\n",
        "from google.colab import drive\n",
        "# Mount Google Drive\n",
        "drive.mount('/content/drive')\n",
        "\n",
        "# mengimpor modul json yang digunakan untuk bekerja dengan data JSON\n",
        "import json"
      ]
    },
    {
      "cell_type": "code",
      "source": [
        "# var data json\n",
        "filename = '/content/drive/MyDrive/Belajar Machine Learning Python/Handling data Json/dataset.json'"
      ],
      "metadata": {
        "id": "O8xIahs6bVLu"
      },
      "execution_count": 8,
      "outputs": []
    },
    {
      "cell_type": "code",
      "source": [
        "# Memuat data JSON dari file\n",
        "def load_data():\n",
        "    with open(filename, 'r') as f:\n",
        "        data = json.load(f)\n",
        "    return data"
      ],
      "metadata": {
        "id": "epcIS805Xfwo"
      },
      "execution_count": 9,
      "outputs": []
    },
    {
      "cell_type": "code",
      "source": [
        "# fungsi menambah data\n",
        "def add_intent(data, intent_tag, patterns, responses):\n",
        "    if intent_tag in [intent[\"tag\"] for intent in data[\"intents\"]]:\n",
        "        print(f\"Intent dengan tag '{intent_tag}' sudah ada. Silahkan gunakan tag yang berbeda.\")\n",
        "        return\n",
        "\n",
        "    new_intent = {\n",
        "        \"tag\": intent_tag,\n",
        "        \"patterns\": patterns,\n",
        "        \"responses\": responses\n",
        "    }\n",
        "    data[\"intents\"].append(new_intent)\n",
        "    save_data(data, filename)\n",
        "\n",
        "def save_data(data, filename):\n",
        "    with open(filename, 'w') as f:\n",
        "        json.dump(data, f, indent=4)"
      ],
      "metadata": {
        "id": "bGVDK2L3Zz1x"
      },
      "execution_count": 33,
      "outputs": []
    },
    {
      "cell_type": "code",
      "source": [
        "# fungsi simpan ubah\n",
        "def update_intent(data, intent_tag, new_patterns, new_responses):\n",
        "    for intent in data[\"intents\"]:\n",
        "        if intent[\"tag\"] == intent_tag:\n",
        "            intent[\"patterns\"] = new_patterns\n",
        "            intent[\"responses\"] = new_responses\n",
        "            save_data(data, filename)\n",
        "            break"
      ],
      "metadata": {
        "id": "jz-EraOyfDeV"
      },
      "execution_count": 24,
      "outputs": []
    },
    {
      "cell_type": "code",
      "source": [
        "# fungsi hapus\n",
        "def delete_intent(data, intent_tag):\n",
        "    for i, intent in enumerate(data[\"intents\"]):\n",
        "        if intent[\"tag\"] == intent_tag:\n",
        "            del data[\"intents\"][i]\n",
        "            save_data(data, filename)\n",
        "            break"
      ],
      "metadata": {
        "id": "OkOuZimKfmh0"
      },
      "execution_count": 29,
      "outputs": []
    },
    {
      "cell_type": "code",
      "source": [
        "# read\n",
        "data = load_data()\n",
        "print(data)"
      ],
      "metadata": {
        "colab": {
          "base_uri": "https://localhost:8080/"
        },
        "id": "0aLPbagQYKZ7",
        "outputId": "5c422976-06c0-45d8-d93a-dd8acdd0b909"
      },
      "execution_count": 37,
      "outputs": [
        {
          "output_type": "stream",
          "name": "stdout",
          "text": [
            "{'intents': [{'tag': 'greetings', 'patterns': ['halo', 'hai'], 'responses': ['Halo! Ada yang bisa saya bantu?', 'Hai! Apa yang ingin Anda tanyakan?']}, {'tag': 'bye', 'patterns': ['goodbye', 'bye', 'see you later'], 'responses': ['Goodbye! Have a nice day.', 'Bye! See you later.', 'It was nice talking to you!']}, {'tag': 'how_are_you', 'patterns': ['how are you', \"how's it going\"], 'responses': [\"I'm doing well, thanks for asking! How about you?\", \"I'm feeling great! What can I do for you today?\"]}, {'tag': 'makan', 'patterns': ['makan apa', 'lapar', 'mau makan'], 'responses': ['Ada yang ingin dipesan?', 'Mau makan apa hari ini?', 'Ayo kita cari makan!']}]}\n"
          ]
        }
      ]
    },
    {
      "cell_type": "code",
      "source": [
        "# add\n",
        "add_intent(data, \"makan\", [\"makan apa\", \"lapar\", \"mau makan\"], [\"Ada yang ingin dipesan?\", \"Mau makan apa hari ini?\", \"Ayo kita cari makan!\"])"
      ],
      "metadata": {
        "colab": {
          "base_uri": "https://localhost:8080/"
        },
        "id": "fwdzpdqlaRUA",
        "outputId": "c96b23c8-6cf4-40fc-babb-dbd10d77643e"
      },
      "execution_count": 36,
      "outputs": [
        {
          "output_type": "stream",
          "name": "stdout",
          "text": [
            "Intent dengan tag 'makan' sudah ada. Silahkan gunakan tag yang berbeda.\n"
          ]
        }
      ]
    },
    {
      "cell_type": "code",
      "source": [
        "# Memperbarui intent yang ada\n",
        "update_intent(data, \"greetings\", [\"halo\", \"hai\"], [\"Halo! Ada yang bisa saya bantu?\", \"Hai! Apa yang ingin Anda tanyakan?\"])"
      ],
      "metadata": {
        "id": "MuROqaIde6oB"
      },
      "execution_count": 25,
      "outputs": []
    },
    {
      "cell_type": "code",
      "source": [
        "# Menghapus intent\n",
        "delete_intent(data, \"makan\")"
      ],
      "metadata": {
        "id": "gJvCoCtPfWMc"
      },
      "execution_count": 32,
      "outputs": []
    }
  ]
}